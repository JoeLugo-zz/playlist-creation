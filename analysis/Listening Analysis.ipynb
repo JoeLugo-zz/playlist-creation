{
 "cells": [
  {
   "cell_type": "code",
   "execution_count": 1,
   "metadata": {},
   "outputs": [],
   "source": [
    "import pandas as pd\n",
    "import plotly.figure_factory as ff\n",
    "import plotly.express as px\n",
    "from datetime import datetime\n",
    "import pytz"
   ]
  },
  {
   "cell_type": "code",
   "execution_count": 2,
   "metadata": {},
   "outputs": [
    {
     "ename": "SyntaxError",
     "evalue": "invalid syntax (<ipython-input-2-925da10d7e87>, line 11)",
     "output_type": "error",
     "traceback": [
      "\u001b[0;36m  File \u001b[0;32m\"<ipython-input-2-925da10d7e87>\"\u001b[0;36m, line \u001b[0;32m11\u001b[0m\n\u001b[0;31m    fig = ff.create_distplot(hist_data, group_labels)\u001b[0m\n\u001b[0m      ^\u001b[0m\n\u001b[0;31mSyntaxError\u001b[0m\u001b[0;31m:\u001b[0m invalid syntax\n"
     ]
    }
   ],
   "source": [
    "def create_histogram(df, col):\n",
    "    new_df = df.dropna()\n",
    "    fig = px.histogram(df, x=col)\n",
    "    fig.show()\n",
    "    \n",
    "def create_distplot(df, col):\n",
    "    new_df = df.dropna()\n",
    "    hist_data = [new_df[col].tolist()]\n",
    "    group_labels = [\"{0}_label\".format(col)\n",
    "                    \n",
    "    fig = ff.create_distplot(hist_data, group_labels)\n",
    "    fig.show()"
   ]
  },
  {
   "cell_type": "code",
   "execution_count": null,
   "metadata": {},
   "outputs": [],
   "source": [
    "listening_history_df = pd.read_csv(\"track_logs.csv\")"
   ]
  },
  {
   "cell_type": "code",
   "execution_count": null,
   "metadata": {},
   "outputs": [],
   "source": [
    "local_format = \"%d %b %Y, %H:%M\"\n",
    "gmt = pytz.timezone(\"GMT\")\n",
    "eastern = pytz.timezone(\"US/Eastern\")\n",
    "\n",
    "listening_history_df[\"playback_date_new\"] = [datetime.strptime(val, local_format) for val in listening_history_df[\"playback_date\"]]\n",
    "listening_history_df[\"eastern_time\"] = [gmt.localize(val).astimezone(eastern) for val in listening_history_df[\"playback_date_new\"]]\n",
    "listening_history_df[\"month\"] = [val.month for val in listening_history_df[\"eastern_time\"]]\n",
    "listening_history_df[\"year\"] = [int(val.split(\"-\")[0]) for val in listening_history_df[\"release_date\"]]"
   ]
  },
  {
   "cell_type": "code",
   "execution_count": null,
   "metadata": {},
   "outputs": [],
   "source": [
    "monthly_count = listening_history_df.groupby([\"month\",\"title\"]).size().reset_index()\n",
    "monthly_count.columns = [\"month\",\"title\",\"count\"]\n",
    "\n",
    "weekday_count = listening_history_df.groupby([\"weekday\",\"title\"]).size().reset_index()\n",
    "weekday_count.columns = [\"weekday\",\"title\",\"count\"]"
   ]
  },
  {
   "cell_type": "code",
   "execution_count": null,
   "metadata": {},
   "outputs": [],
   "source": [
    "listening_history_df[\"title\"].value_counts().reset_index().head(n=10)"
   ]
  },
  {
   "cell_type": "code",
   "execution_count": null,
   "metadata": {},
   "outputs": [],
   "source": [
    "listening_history_df[\"artist\"].value_counts().reset_index().head(n=10)"
   ]
  },
  {
   "cell_type": "code",
   "execution_count": null,
   "metadata": {},
   "outputs": [],
   "source": [
    "monthly_count.groupby(\"month\").apply(lambda x: x.nlargest(1, \"count\")).reset_index(drop=True)"
   ]
  },
  {
   "cell_type": "code",
   "execution_count": null,
   "metadata": {},
   "outputs": [],
   "source": [
    "weekday_count.groupby(\"weekday\").apply(lambda x: x.nlargest(1, \"count\")).reset_index(drop=True)"
   ]
  },
  {
   "cell_type": "code",
   "execution_count": null,
   "metadata": {},
   "outputs": [],
   "source": [
    "create_histogram(listening_history_df, \"year\")"
   ]
  },
  {
   "cell_type": "code",
   "execution_count": null,
   "metadata": {
    "scrolled": false
   },
   "outputs": [],
   "source": [
    "create_distplot(listening_history_df, \"year\")"
   ]
  },
  {
   "cell_type": "code",
   "execution_count": null,
   "metadata": {},
   "outputs": [],
   "source": [
    "create_histogram(listening_history_df, \"popularity\")"
   ]
  },
  {
   "cell_type": "code",
   "execution_count": null,
   "metadata": {},
   "outputs": [],
   "source": [
    "create_distplot(listening_history_df, \"popularity\")"
   ]
  },
  {
   "cell_type": "code",
   "execution_count": null,
   "metadata": {},
   "outputs": [],
   "source": []
  }
 ],
 "metadata": {
  "kernelspec": {
   "display_name": "Python 3",
   "language": "python",
   "name": "python3"
  },
  "language_info": {
   "codemirror_mode": {
    "name": "ipython",
    "version": 3
   },
   "file_extension": ".py",
   "mimetype": "text/x-python",
   "name": "python",
   "nbconvert_exporter": "python",
   "pygments_lexer": "ipython3",
   "version": "3.7.6"
  }
 },
 "nbformat": 4,
 "nbformat_minor": 4
}
