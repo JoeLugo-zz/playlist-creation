{
 "cells": [
  {
   "cell_type": "markdown",
   "metadata": {},
   "source": [
    "# Overview\n",
    "\n",
    "This analysis is using my personal listneing history from July 5, 2020 to December 28, 2020. Data was retreieved by connecting my spotify account to lastfm to be able to track everything I listen to. I then used pylast, and the spotify API to generate the dataframe being used in this analysis."
   ]
  },
  {
   "cell_type": "markdown",
   "metadata": {},
   "source": [
    "# Import Libraries"
   ]
  },
  {
   "cell_type": "code",
   "execution_count": 1,
   "metadata": {},
   "outputs": [],
   "source": [
    "import pandas as pd\n",
    "from datetime import datetime\n",
    "import pytz\n",
    "import plotly.express as px\n",
    "import plotly.figure_factory as ff\n",
    "import numpy as np"
   ]
  },
  {
   "cell_type": "markdown",
   "metadata": {},
   "source": [
    "# Define Functions"
   ]
  },
  {
   "cell_type": "code",
   "execution_count": 2,
   "metadata": {},
   "outputs": [],
   "source": [
    "def create_histogram(df, col):\n",
    "    new_df = df.dropna()\n",
    "    fig = px.histogram(df, x=col)\n",
    "    fig.show(\"png\")\n",
    "    \n",
    "def create_distplot(df, col):\n",
    "    new_df = df.dropna()\n",
    "    hist_data = [new_df[col].tolist()]\n",
    "    group_labels = [\"{0}_label\".format(col)]\n",
    "\n",
    "    fig = ff.create_distplot(hist_data, group_labels)\n",
    "    fig.show(\"png\")"
   ]
  },
  {
   "cell_type": "markdown",
   "metadata": {},
   "source": [
    "# Read in the data from csv file"
   ]
  },
  {
   "cell_type": "code",
   "execution_count": 3,
   "metadata": {},
   "outputs": [],
   "source": [
    "listening_history_df = pd.read_csv(\"listening_history_2020_12_28.csv\")"
   ]
  },
  {
   "cell_type": "code",
   "execution_count": 4,
   "metadata": {},
   "outputs": [],
   "source": [
    "# Need to format the data to be able to extract the month and year properly \n",
    "local_format = \"%d %b %Y, %H:%M\"\n",
    "gmt = pytz.timezone(\"GMT\")\n",
    "eastern = pytz.timezone(\"US/Eastern\")\n",
    "\n",
    "listening_history_df[\"playback_date_new\"] = [datetime.strptime(val, local_format) for val in listening_history_df[\"playback_date\"]]\n",
    "listening_history_df[\"eastern_time\"] = [gmt.localize(val).astimezone(eastern) for val in listening_history_df[\"playback_date_new\"]]\n",
    "listening_history_df[\"month\"] = [val.month for val in listening_history_df[\"eastern_time\"]]\n",
    "listening_history_df[\"listening_year\"] = [val.year for val in listening_history_df[\"eastern_time\"]]\n",
    "listening_history_df[\"year\"] = [int(val.split(\"-\")[0]) for val in listening_history_df[\"release_date\"]]"
   ]
  },
  {
   "cell_type": "markdown",
   "metadata": {},
   "source": [
    "### Top Tracks\n",
    "As you can see, there is stark contrast in the music that I listen to :) "
   ]
  },
  {
   "cell_type": "code",
   "execution_count": 5,
   "metadata": {},
   "outputs": [
    {
     "data": {
      "text/html": [
       "<div>\n",
       "<style scoped>\n",
       "    .dataframe tbody tr th:only-of-type {\n",
       "        vertical-align: middle;\n",
       "    }\n",
       "\n",
       "    .dataframe tbody tr th {\n",
       "        vertical-align: top;\n",
       "    }\n",
       "\n",
       "    .dataframe thead th {\n",
       "        text-align: right;\n",
       "    }\n",
       "</style>\n",
       "<table border=\"1\" class=\"dataframe\">\n",
       "  <thead>\n",
       "    <tr style=\"text-align: right;\">\n",
       "      <th></th>\n",
       "      <th>index</th>\n",
       "      <th>title</th>\n",
       "    </tr>\n",
       "  </thead>\n",
       "  <tbody>\n",
       "    <tr>\n",
       "      <th>0</th>\n",
       "      <td>Laugh Now Cry Later (feat. Lil Durk)</td>\n",
       "      <td>109</td>\n",
       "    </tr>\n",
       "    <tr>\n",
       "      <th>1</th>\n",
       "      <td>Woodlawn</td>\n",
       "      <td>90</td>\n",
       "    </tr>\n",
       "    <tr>\n",
       "      <th>2</th>\n",
       "      <td>Build My Life</td>\n",
       "      <td>78</td>\n",
       "    </tr>\n",
       "    <tr>\n",
       "      <th>3</th>\n",
       "      <td>Plastic Love</td>\n",
       "      <td>76</td>\n",
       "    </tr>\n",
       "    <tr>\n",
       "      <th>4</th>\n",
       "      <td>I Want You Around</td>\n",
       "      <td>76</td>\n",
       "    </tr>\n",
       "    <tr>\n",
       "      <th>5</th>\n",
       "      <td>All I Need (with Mahalia &amp; Ty Dolla $ign)</td>\n",
       "      <td>68</td>\n",
       "    </tr>\n",
       "    <tr>\n",
       "      <th>6</th>\n",
       "      <td>Chicago Freestyle (feat. Giveon)</td>\n",
       "      <td>67</td>\n",
       "    </tr>\n",
       "    <tr>\n",
       "      <th>7</th>\n",
       "      <td>Where Were You in the Morning?</td>\n",
       "      <td>62</td>\n",
       "    </tr>\n",
       "    <tr>\n",
       "      <th>8</th>\n",
       "      <td>Dragonball Durag</td>\n",
       "      <td>61</td>\n",
       "    </tr>\n",
       "    <tr>\n",
       "      <th>9</th>\n",
       "      <td>Dynamite</td>\n",
       "      <td>60</td>\n",
       "    </tr>\n",
       "  </tbody>\n",
       "</table>\n",
       "</div>"
      ],
      "text/plain": [
       "                                       index  title\n",
       "0       Laugh Now Cry Later (feat. Lil Durk)    109\n",
       "1                                   Woodlawn     90\n",
       "2                              Build My Life     78\n",
       "3                               Plastic Love     76\n",
       "4                          I Want You Around     76\n",
       "5  All I Need (with Mahalia & Ty Dolla $ign)     68\n",
       "6           Chicago Freestyle (feat. Giveon)     67\n",
       "7             Where Were You in the Morning?     62\n",
       "8                           Dragonball Durag     61\n",
       "9                                   Dynamite     60"
      ]
     },
     "execution_count": 5,
     "metadata": {},
     "output_type": "execute_result"
    }
   ],
   "source": [
    "listening_history_df[\"title\"].value_counts().reset_index().head(n=10)"
   ]
  },
  {
   "cell_type": "markdown",
   "metadata": {},
   "source": [
    "### Top Artists\n",
    "Ah yes, Drake as the top spot once again. It has been Drake for the last 3 years or so, gotta stay loyal to my guy from the 6ix."
   ]
  },
  {
   "cell_type": "code",
   "execution_count": 6,
   "metadata": {},
   "outputs": [
    {
     "data": {
      "text/html": [
       "<div>\n",
       "<style scoped>\n",
       "    .dataframe tbody tr th:only-of-type {\n",
       "        vertical-align: middle;\n",
       "    }\n",
       "\n",
       "    .dataframe tbody tr th {\n",
       "        vertical-align: top;\n",
       "    }\n",
       "\n",
       "    .dataframe thead th {\n",
       "        text-align: right;\n",
       "    }\n",
       "</style>\n",
       "<table border=\"1\" class=\"dataframe\">\n",
       "  <thead>\n",
       "    <tr style=\"text-align: right;\">\n",
       "      <th></th>\n",
       "      <th>index</th>\n",
       "      <th>artist</th>\n",
       "    </tr>\n",
       "  </thead>\n",
       "  <tbody>\n",
       "    <tr>\n",
       "      <th>0</th>\n",
       "      <td>Drake</td>\n",
       "      <td>535</td>\n",
       "    </tr>\n",
       "    <tr>\n",
       "      <th>1</th>\n",
       "      <td>Kanye West</td>\n",
       "      <td>380</td>\n",
       "    </tr>\n",
       "    <tr>\n",
       "      <th>2</th>\n",
       "      <td>Hillsong Worship</td>\n",
       "      <td>352</td>\n",
       "    </tr>\n",
       "    <tr>\n",
       "      <th>3</th>\n",
       "      <td>Frank Ocean</td>\n",
       "      <td>343</td>\n",
       "    </tr>\n",
       "    <tr>\n",
       "      <th>4</th>\n",
       "      <td>Shawn Mendes</td>\n",
       "      <td>312</td>\n",
       "    </tr>\n",
       "    <tr>\n",
       "      <th>5</th>\n",
       "      <td>Housefires</td>\n",
       "      <td>310</td>\n",
       "    </tr>\n",
       "    <tr>\n",
       "      <th>6</th>\n",
       "      <td>Elevation Worship</td>\n",
       "      <td>228</td>\n",
       "    </tr>\n",
       "    <tr>\n",
       "      <th>7</th>\n",
       "      <td>Aminé</td>\n",
       "      <td>218</td>\n",
       "    </tr>\n",
       "    <tr>\n",
       "      <th>8</th>\n",
       "      <td>Jaden</td>\n",
       "      <td>186</td>\n",
       "    </tr>\n",
       "    <tr>\n",
       "      <th>9</th>\n",
       "      <td>BTS</td>\n",
       "      <td>179</td>\n",
       "    </tr>\n",
       "  </tbody>\n",
       "</table>\n",
       "</div>"
      ],
      "text/plain": [
       "               index  artist\n",
       "0              Drake     535\n",
       "1         Kanye West     380\n",
       "2   Hillsong Worship     352\n",
       "3        Frank Ocean     343\n",
       "4       Shawn Mendes     312\n",
       "5         Housefires     310\n",
       "6  Elevation Worship     228\n",
       "7              Aminé     218\n",
       "8              Jaden     186\n",
       "9                BTS     179"
      ]
     },
     "execution_count": 6,
     "metadata": {},
     "output_type": "execute_result"
    }
   ],
   "source": [
    "listening_history_df[\"artist\"].value_counts().reset_index().head(n=10)"
   ]
  },
  {
   "cell_type": "markdown",
   "metadata": {},
   "source": [
    "# Repeated Songs\n",
    "These are the songs that were most played in a single day. Shawn Mendes took over for a day and also Tori Kelly's cover took me by surprise "
   ]
  },
  {
   "cell_type": "code",
   "execution_count": 7,
   "metadata": {},
   "outputs": [
    {
     "data": {
      "text/html": [
       "<div>\n",
       "<style scoped>\n",
       "    .dataframe tbody tr th:only-of-type {\n",
       "        vertical-align: middle;\n",
       "    }\n",
       "\n",
       "    .dataframe tbody tr th {\n",
       "        vertical-align: top;\n",
       "    }\n",
       "\n",
       "    .dataframe thead th {\n",
       "        text-align: right;\n",
       "    }\n",
       "</style>\n",
       "<table border=\"1\" class=\"dataframe\">\n",
       "  <thead>\n",
       "    <tr style=\"text-align: right;\">\n",
       "      <th></th>\n",
       "      <th>year</th>\n",
       "      <th>month</th>\n",
       "      <th>weekday</th>\n",
       "      <th>title</th>\n",
       "      <th>artist</th>\n",
       "      <th>count</th>\n",
       "    </tr>\n",
       "  </thead>\n",
       "  <tbody>\n",
       "    <tr>\n",
       "      <th>4799</th>\n",
       "      <td>2020</td>\n",
       "      <td>10</td>\n",
       "      <td>2</td>\n",
       "      <td>Where Were You in the Morning?</td>\n",
       "      <td>Shawn Mendes</td>\n",
       "      <td>16</td>\n",
       "    </tr>\n",
       "    <tr>\n",
       "      <th>1724</th>\n",
       "      <td>2020</td>\n",
       "      <td>8</td>\n",
       "      <td>2</td>\n",
       "      <td>Anthem // Great Are You Lord - Live</td>\n",
       "      <td>Phil Wickham</td>\n",
       "      <td>16</td>\n",
       "    </tr>\n",
       "    <tr>\n",
       "      <th>1734</th>\n",
       "      <td>2020</td>\n",
       "      <td>8</td>\n",
       "      <td>2</td>\n",
       "      <td>Build My Life</td>\n",
       "      <td>Housefires</td>\n",
       "      <td>14</td>\n",
       "    </tr>\n",
       "    <tr>\n",
       "      <th>5686</th>\n",
       "      <td>2020</td>\n",
       "      <td>11</td>\n",
       "      <td>0</td>\n",
       "      <td>Time Flies</td>\n",
       "      <td>Tori Kelly</td>\n",
       "      <td>14</td>\n",
       "    </tr>\n",
       "    <tr>\n",
       "      <th>5084</th>\n",
       "      <td>2020</td>\n",
       "      <td>10</td>\n",
       "      <td>4</td>\n",
       "      <td>Cornerstone - Live</td>\n",
       "      <td>Hillsong Worship</td>\n",
       "      <td>12</td>\n",
       "    </tr>\n",
       "    <tr>\n",
       "      <th>1745</th>\n",
       "      <td>2020</td>\n",
       "      <td>8</td>\n",
       "      <td>2</td>\n",
       "      <td>Called Me Higher - Live</td>\n",
       "      <td>All Sons &amp; Daughters</td>\n",
       "      <td>12</td>\n",
       "    </tr>\n",
       "    <tr>\n",
       "      <th>6573</th>\n",
       "      <td>2020</td>\n",
       "      <td>11</td>\n",
       "      <td>6</td>\n",
       "      <td>Cornerstone - Live</td>\n",
       "      <td>Hillsong Worship</td>\n",
       "      <td>12</td>\n",
       "    </tr>\n",
       "    <tr>\n",
       "      <th>4597</th>\n",
       "      <td>2020</td>\n",
       "      <td>10</td>\n",
       "      <td>1</td>\n",
       "      <td>Sunflower</td>\n",
       "      <td>Pauline Zoe Park</td>\n",
       "      <td>12</td>\n",
       "    </tr>\n",
       "    <tr>\n",
       "      <th>6335</th>\n",
       "      <td>2020</td>\n",
       "      <td>11</td>\n",
       "      <td>4</td>\n",
       "      <td>Telepathy</td>\n",
       "      <td>BTS</td>\n",
       "      <td>12</td>\n",
       "    </tr>\n",
       "    <tr>\n",
       "      <th>6606</th>\n",
       "      <td>2020</td>\n",
       "      <td>11</td>\n",
       "      <td>6</td>\n",
       "      <td>King Of Kings</td>\n",
       "      <td>Hillsong Worship</td>\n",
       "      <td>12</td>\n",
       "    </tr>\n",
       "    <tr>\n",
       "      <th>1427</th>\n",
       "      <td>2020</td>\n",
       "      <td>8</td>\n",
       "      <td>0</td>\n",
       "      <td>Time Flies</td>\n",
       "      <td>Drake</td>\n",
       "      <td>12</td>\n",
       "    </tr>\n",
       "    <tr>\n",
       "      <th>6634</th>\n",
       "      <td>2020</td>\n",
       "      <td>11</td>\n",
       "      <td>6</td>\n",
       "      <td>Scandal of Grace</td>\n",
       "      <td>Hillsong United</td>\n",
       "      <td>12</td>\n",
       "    </tr>\n",
       "    <tr>\n",
       "      <th>5741</th>\n",
       "      <td>2020</td>\n",
       "      <td>11</td>\n",
       "      <td>1</td>\n",
       "      <td>Closer Than a Brother</td>\n",
       "      <td>Josh Garrels</td>\n",
       "      <td>10</td>\n",
       "    </tr>\n",
       "    <tr>\n",
       "      <th>1938</th>\n",
       "      <td>2020</td>\n",
       "      <td>8</td>\n",
       "      <td>3</td>\n",
       "      <td>Dragonball Durag</td>\n",
       "      <td>Thundercat</td>\n",
       "      <td>10</td>\n",
       "    </tr>\n",
       "    <tr>\n",
       "      <th>6228</th>\n",
       "      <td>2020</td>\n",
       "      <td>11</td>\n",
       "      <td>4</td>\n",
       "      <td>Dynamite</td>\n",
       "      <td>BTS</td>\n",
       "      <td>10</td>\n",
       "    </tr>\n",
       "  </tbody>\n",
       "</table>\n",
       "</div>"
      ],
      "text/plain": [
       "      year  month  weekday                                title  \\\n",
       "4799  2020     10        2       Where Were You in the Morning?   \n",
       "1724  2020      8        2  Anthem // Great Are You Lord - Live   \n",
       "1734  2020      8        2                        Build My Life   \n",
       "5686  2020     11        0                           Time Flies   \n",
       "5084  2020     10        4                   Cornerstone - Live   \n",
       "1745  2020      8        2              Called Me Higher - Live   \n",
       "6573  2020     11        6                   Cornerstone - Live   \n",
       "4597  2020     10        1                            Sunflower   \n",
       "6335  2020     11        4                            Telepathy   \n",
       "6606  2020     11        6                        King Of Kings   \n",
       "1427  2020      8        0                           Time Flies   \n",
       "6634  2020     11        6                     Scandal of Grace   \n",
       "5741  2020     11        1                Closer Than a Brother   \n",
       "1938  2020      8        3                     Dragonball Durag   \n",
       "6228  2020     11        4                             Dynamite   \n",
       "\n",
       "                    artist  count  \n",
       "4799          Shawn Mendes     16  \n",
       "1724          Phil Wickham     16  \n",
       "1734            Housefires     14  \n",
       "5686            Tori Kelly     14  \n",
       "5084      Hillsong Worship     12  \n",
       "1745  All Sons & Daughters     12  \n",
       "6573      Hillsong Worship     12  \n",
       "4597      Pauline Zoe Park     12  \n",
       "6335                   BTS     12  \n",
       "6606      Hillsong Worship     12  \n",
       "1427                 Drake     12  \n",
       "6634       Hillsong United     12  \n",
       "5741          Josh Garrels     10  \n",
       "1938            Thundercat     10  \n",
       "6228                   BTS     10  "
      ]
     },
     "execution_count": 7,
     "metadata": {},
     "output_type": "execute_result"
    }
   ],
   "source": [
    "repeat_df = listening_history_df.groupby(['listening_year','month','weekday','title','artist']).size().reset_index()\n",
    "repeat_df.columns = ['year','month','weekday','title','artist','count']\n",
    "repeat_df.sort_values('count', ascending=0).head(n=15)"
   ]
  },
  {
   "cell_type": "markdown",
   "metadata": {},
   "source": [
    "### Exploring genre data\n",
    "To properly look at the genre data we first need to format them. They show up as a single column that looks something like ['hip hop', 'pop']. I had to parse every unique genre out and then see which ones showed up for every track."
   ]
  },
  {
   "cell_type": "code",
   "execution_count": 8,
   "metadata": {},
   "outputs": [],
   "source": [
    "genre_cleanup_df = listening_history_df[[\"artist\",\"genres\"]].drop_duplicates().dropna()\n",
    "genres = list(set(genre_cleanup_df[\"genres\"]))"
   ]
  },
  {
   "cell_type": "code",
   "execution_count": 9,
   "metadata": {},
   "outputs": [],
   "source": [
    "cleaned_genres = [\n",
    "    (((val\n",
    "             .replace(\"'\",\"\")) # Get rid of '\n",
    "            .replace(\"[\",\"\")) # Get rid of [\n",
    "        .replace(\"]\",\"\")) # Get rid of ]\n",
    "    .split(\", \") # Turn the string into a list\n",
    "    \n",
    "    for val in genres if val != \"[]\"\n",
    "]\n",
    "\n",
    "# Getting a list of the unique genres\n",
    "final_genre_list =  list(set(sum(cleaned_genres, [])))"
   ]
  },
  {
   "cell_type": "code",
   "execution_count": 10,
   "metadata": {},
   "outputs": [],
   "source": [
    "for val in final_genre_list:\n",
    "    genre_cleanup_df[val] = np.nan\n",
    "    new_list = []\n",
    "    for elem in genre_cleanup_df[\"genres\"]:\n",
    "        if val in elem:\n",
    "            new_list.append(1)\n",
    "        else:\n",
    "            new_list.append(0)\n",
    "    genre_cleanup_df[val] = new_list"
   ]
  },
  {
   "cell_type": "code",
   "execution_count": 11,
   "metadata": {},
   "outputs": [],
   "source": [
    "genre_counts = genre_cleanup_df[final_genre_list].sum().reset_index()\n",
    "genre_counts.columns = [\"genre\",\"count\"]"
   ]
  },
  {
   "cell_type": "markdown",
   "metadata": {},
   "source": [
    "Looking at the results for the top 15 genres, it is not too surprising. We can see pop on top as there is overlap with hip hop and rap as well "
   ]
  },
  {
   "cell_type": "code",
   "execution_count": 12,
   "metadata": {},
   "outputs": [
    {
     "name": "stdout",
     "output_type": "stream",
     "text": [
      "There are 124 pop songs that overlap with hip hop\n",
      "There are 184 pop songs that overlap with rap\n",
      "There are 161 pop songs that overlap with r&b\n"
     ]
    }
   ],
   "source": [
    "hip_hop_overlap = len(genre_cleanup_df[(genre_cleanup_df[\"pop\"] == 1) & (genre_cleanup_df[\"hip hop\"] == 1)])\n",
    "rap_overlap = len(genre_cleanup_df[(genre_cleanup_df[\"pop\"] == 1) & (genre_cleanup_df[\"rap\"] == 1)])\n",
    "rb_overlap = len(genre_cleanup_df[(genre_cleanup_df[\"pop\"] == 1) & (genre_cleanup_df[\"r&b\"] == 1)])\n",
    "\n",
    "print(\"There are {0} pop songs that overlap with hip hop\".format(hip_hop_overlap))\n",
    "print(\"There are {0} pop songs that overlap with rap\".format(rap_overlap))\n",
    "print(\"There are {0} pop songs that overlap with r&b\".format(rb_overlap))"
   ]
  },
  {
   "cell_type": "code",
   "execution_count": 13,
   "metadata": {},
   "outputs": [
    {
     "data": {
      "text/html": [
       "<div>\n",
       "<style scoped>\n",
       "    .dataframe tbody tr th:only-of-type {\n",
       "        vertical-align: middle;\n",
       "    }\n",
       "\n",
       "    .dataframe tbody tr th {\n",
       "        vertical-align: top;\n",
       "    }\n",
       "\n",
       "    .dataframe thead th {\n",
       "        text-align: right;\n",
       "    }\n",
       "</style>\n",
       "<table border=\"1\" class=\"dataframe\">\n",
       "  <thead>\n",
       "    <tr style=\"text-align: right;\">\n",
       "      <th></th>\n",
       "      <th>genre</th>\n",
       "      <th>count</th>\n",
       "    </tr>\n",
       "  </thead>\n",
       "  <tbody>\n",
       "    <tr>\n",
       "      <th>604</th>\n",
       "      <td>pop</td>\n",
       "      <td>627</td>\n",
       "    </tr>\n",
       "    <tr>\n",
       "      <th>115</th>\n",
       "      <td>hip hop</td>\n",
       "      <td>390</td>\n",
       "    </tr>\n",
       "    <tr>\n",
       "      <th>438</th>\n",
       "      <td>rap</td>\n",
       "      <td>382</td>\n",
       "    </tr>\n",
       "    <tr>\n",
       "      <th>249</th>\n",
       "      <td>r&amp;b</td>\n",
       "      <td>370</td>\n",
       "    </tr>\n",
       "    <tr>\n",
       "      <th>238</th>\n",
       "      <td>soul</td>\n",
       "      <td>289</td>\n",
       "    </tr>\n",
       "    <tr>\n",
       "      <th>265</th>\n",
       "      <td>alternative r&amp;b</td>\n",
       "      <td>175</td>\n",
       "    </tr>\n",
       "    <tr>\n",
       "      <th>424</th>\n",
       "      <td>trap</td>\n",
       "      <td>167</td>\n",
       "    </tr>\n",
       "    <tr>\n",
       "      <th>355</th>\n",
       "      <td>rock</td>\n",
       "      <td>166</td>\n",
       "    </tr>\n",
       "    <tr>\n",
       "      <th>62</th>\n",
       "      <td>dance pop</td>\n",
       "      <td>148</td>\n",
       "    </tr>\n",
       "    <tr>\n",
       "      <th>415</th>\n",
       "      <td>christian</td>\n",
       "      <td>141</td>\n",
       "    </tr>\n",
       "    <tr>\n",
       "      <th>224</th>\n",
       "      <td>pop rap</td>\n",
       "      <td>141</td>\n",
       "    </tr>\n",
       "    <tr>\n",
       "      <th>407</th>\n",
       "      <td>indie r&amp;b</td>\n",
       "      <td>133</td>\n",
       "    </tr>\n",
       "    <tr>\n",
       "      <th>707</th>\n",
       "      <td>indie soul</td>\n",
       "      <td>128</td>\n",
       "    </tr>\n",
       "    <tr>\n",
       "      <th>107</th>\n",
       "      <td>worship</td>\n",
       "      <td>118</td>\n",
       "    </tr>\n",
       "    <tr>\n",
       "      <th>2</th>\n",
       "      <td>jazz</td>\n",
       "      <td>108</td>\n",
       "    </tr>\n",
       "  </tbody>\n",
       "</table>\n",
       "</div>"
      ],
      "text/plain": [
       "               genre  count\n",
       "604              pop    627\n",
       "115          hip hop    390\n",
       "438              rap    382\n",
       "249              r&b    370\n",
       "238             soul    289\n",
       "265  alternative r&b    175\n",
       "424             trap    167\n",
       "355             rock    166\n",
       "62         dance pop    148\n",
       "415        christian    141\n",
       "224          pop rap    141\n",
       "407        indie r&b    133\n",
       "707       indie soul    128\n",
       "107          worship    118\n",
       "2               jazz    108"
      ]
     },
     "execution_count": 13,
     "metadata": {},
     "output_type": "execute_result"
    }
   ],
   "source": [
    "genre_counts.sort_values(\"count\",ascending=0).head(n=15)"
   ]
  },
  {
   "cell_type": "code",
   "execution_count": 14,
   "metadata": {},
   "outputs": [
    {
     "name": "stdout",
     "output_type": "stream",
     "text": [
      "There are 708 unqiue genres that you listen to\n"
     ]
    }
   ],
   "source": [
    "unique_genres = len(final_genre_list)\n",
    "print(\"There are {0} unqiue genres that you listen to\".format(unique_genres))"
   ]
  },
  {
   "cell_type": "markdown",
   "metadata": {},
   "source": [
    "Something interesting is how many regional sub genres there are. Some examples below include the pop and hip hop genres. I had no idea there were this many sub genres and I had no idea I listened to irish hip hop :shrug:"
   ]
  },
  {
   "cell_type": "code",
   "execution_count": 15,
   "metadata": {},
   "outputs": [
    {
     "name": "stdout",
     "output_type": "stream",
     "text": [
      "There are 103 pop sub-genres\n",
      "\n",
      "['musica popular mineira', 'channel pop', 'classic swedish pop', 'pop rock', 'modern alternative pop', 'puerto rican pop', 'experimental pop', 'social media pop', 'canadian pop', 'dance pop', 'candy pop', 'etherpop', 'pop soul', 'latin pop', 'shiver pop', 'swedish electropop', 'soda pop', 'bedroom pop', 'teen pop', 'bow pop', 'europop', 'la pop', 'indie dream pop', 'australian pop', 'ghanaian pop', 'electropop', 'indie poptimism', 'nz pop', 'indie cafe pop', 'modern power pop', 'classic country pop', 'pop r&b', 'modern indie pop', 'hip pop', 'nederpop', 'vapor pop', 'j-poprock', 'japanese city pop', 'pop rap', 'japanese indie pop', 'modern dream pop', 'new wave pop', 'metropopolis', 'hyperpop', 'uk pop', 'art pop', 'korean city pop', 'j-pop', 'psychedelic pop', 'post-teen pop', 'uk alternative pop', 'k-pop boy group', 'pop dance', 'swedish indie pop', 'viral pop', 'indie electropop', 'k-pop girl group', 'pop edm', 'bubblegum pop', 'alternative pop rock', 'dream pop', 'neo-synthpop', 'gauze pop', 'french synthpop', 'jazz pop', 'pop emo', 'dominican pop', 'icelandic pop', 'chill pop', 'afropop', 'nyc pop', 'dutch pop', 'classic uk pop', 'malaysian pop', 'polynesian pop', 'scandipop', 'south african pop', 'sophisti-pop', 'chamber pop', 'pop folk', 'nigerian pop', 'shimmer pop', 'pop urbaine', 'folk-pop', 'neon pop punk', 'chinese electropop', 'pop', 'indie pop', 'swedish synthpop', 'christian pop', 'korean pop', 'popping', 'barbadian pop', 'baroque pop', 'brill building pop', 'k-pop', 'norwegian pop', 'pop punk', 'acoustic pop', 'indie pop rap', 'sudanese pop', 'german pop', 'colombian pop']\n"
     ]
    }
   ],
   "source": [
    "pop_sub_genres = [val for val in final_genre_list if \"pop\" in val]\n",
    "print(\"There are {0} pop sub-genres\\n\".format(len(pop_sub_genres)))\n",
    "print(pop_sub_genres)"
   ]
  },
  {
   "cell_type": "code",
   "execution_count": 16,
   "metadata": {
    "scrolled": true
   },
   "outputs": [
    {
     "name": "stdout",
     "output_type": "stream",
     "text": [
      "There are 57 hip hop sub-genres\n",
      "\n",
      "['belgian hip hop', 'north carolina hip hop', 'psychedelic hip hop', 'bc underground hip hop', 'bronx hip hop', 'east coast hip hop', 'minnesota hip hop', 'south carolina hip hop', 'nigerian hip hop', 'milwaukee hip hop', 'memphis hip hop', 'hip hop', 'industrial hip hop', 'uk hip hop', 'ghanaian hip hop', 'hawaiian hip hop', 'hardcore hip hop', 'harlem hip hop', 'virginia hip hop', 'detroit hip hop', 'indonesian hip hop', 'kentucky hip hop', 'south african hip hop', 'southern hip hop', 'christian hip hop', 'tennessee hip hop', 'nashville hip hop', 'mississippi hip hop', 'experimental hip hop', 'atl hip hop', 'canadian hip hop', 'alternative hip hop', 'uk alternative hip hop', 'conscious hip hop', 'buffalo hip hop', 'asian american hip hop', 'deep underground hip hop', 'zambian hip hop', 'miami hip hop', 'political hip hop', 'ohio hip hop', 'underground hip hop', 'irish hip hop', 'boston hip hop', 'old school hip hop', 'winnipeg hip hop', 'manchester hip hop', 'brazilian hip hop', 'portland hip hop', 'indiana hip hop', 'birmingham hip hop', 'australian hip hop', 'queens hip hop', 'french hip hop', 'lgbtq+ hip hop', 'arkansas hip hop', 'indie hip hop']\n"
     ]
    }
   ],
   "source": [
    "hip_hop_sub_genres = [val for val in final_genre_list if \"hip hop\" in val]\n",
    "print(\"There are {0} hip hop sub-genres\\n\".format(len(hip_hop_sub_genres)))\n",
    "print(hip_hop_sub_genres)"
   ]
  },
  {
   "cell_type": "markdown",
   "metadata": {},
   "source": [
    "### Top tracks by month\n",
    "Yes I had a Shawn Mendes phase."
   ]
  },
  {
   "cell_type": "code",
   "execution_count": 17,
   "metadata": {},
   "outputs": [],
   "source": [
    "monthly_count = listening_history_df.groupby([\"month\",\"title\"]).size().reset_index()\n",
    "monthly_count.columns = [\"month\",\"title\",\"count\"]"
   ]
  },
  {
   "cell_type": "code",
   "execution_count": 18,
   "metadata": {},
   "outputs": [
    {
     "data": {
      "text/html": [
       "<div>\n",
       "<style scoped>\n",
       "    .dataframe tbody tr th:only-of-type {\n",
       "        vertical-align: middle;\n",
       "    }\n",
       "\n",
       "    .dataframe tbody tr th {\n",
       "        vertical-align: top;\n",
       "    }\n",
       "\n",
       "    .dataframe thead th {\n",
       "        text-align: right;\n",
       "    }\n",
       "</style>\n",
       "<table border=\"1\" class=\"dataframe\">\n",
       "  <thead>\n",
       "    <tr style=\"text-align: right;\">\n",
       "      <th></th>\n",
       "      <th>month</th>\n",
       "      <th>title</th>\n",
       "      <th>count</th>\n",
       "    </tr>\n",
       "  </thead>\n",
       "  <tbody>\n",
       "    <tr>\n",
       "      <th>0</th>\n",
       "      <td>7</td>\n",
       "      <td>Chicago Freestyle (feat. Giveon)</td>\n",
       "      <td>12</td>\n",
       "    </tr>\n",
       "    <tr>\n",
       "      <th>1</th>\n",
       "      <td>8</td>\n",
       "      <td>Anthem // Great Are You Lord - Live</td>\n",
       "      <td>38</td>\n",
       "    </tr>\n",
       "    <tr>\n",
       "      <th>2</th>\n",
       "      <td>9</td>\n",
       "      <td>Slide (feat. Frank Ocean &amp; Migos)</td>\n",
       "      <td>20</td>\n",
       "    </tr>\n",
       "    <tr>\n",
       "      <th>3</th>\n",
       "      <td>10</td>\n",
       "      <td>Where Were You in the Morning?</td>\n",
       "      <td>44</td>\n",
       "    </tr>\n",
       "    <tr>\n",
       "      <th>4</th>\n",
       "      <td>11</td>\n",
       "      <td>Time Flies</td>\n",
       "      <td>28</td>\n",
       "    </tr>\n",
       "    <tr>\n",
       "      <th>5</th>\n",
       "      <td>12</td>\n",
       "      <td>O Holy Night</td>\n",
       "      <td>19</td>\n",
       "    </tr>\n",
       "  </tbody>\n",
       "</table>\n",
       "</div>"
      ],
      "text/plain": [
       "   month                                title  count\n",
       "0      7     Chicago Freestyle (feat. Giveon)     12\n",
       "1      8  Anthem // Great Are You Lord - Live     38\n",
       "2      9    Slide (feat. Frank Ocean & Migos)     20\n",
       "3     10       Where Were You in the Morning?     44\n",
       "4     11                           Time Flies     28\n",
       "5     12                         O Holy Night     19"
      ]
     },
     "execution_count": 18,
     "metadata": {},
     "output_type": "execute_result"
    }
   ],
   "source": [
    "monthly_count.groupby(\"month\").apply(lambda x: x.nlargest(1, \"count\")).reset_index(drop=True)"
   ]
  },
  {
   "cell_type": "markdown",
   "metadata": {},
   "source": [
    "You can see a dropoff of listening in December as I have been on break and away from my computer "
   ]
  },
  {
   "cell_type": "code",
   "execution_count": 19,
   "metadata": {},
   "outputs": [
    {
     "data": {
      "text/html": [
       "<div>\n",
       "<style scoped>\n",
       "    .dataframe tbody tr th:only-of-type {\n",
       "        vertical-align: middle;\n",
       "    }\n",
       "\n",
       "    .dataframe tbody tr th {\n",
       "        vertical-align: top;\n",
       "    }\n",
       "\n",
       "    .dataframe thead th {\n",
       "        text-align: right;\n",
       "    }\n",
       "</style>\n",
       "<table border=\"1\" class=\"dataframe\">\n",
       "  <thead>\n",
       "    <tr style=\"text-align: right;\">\n",
       "      <th></th>\n",
       "      <th>month</th>\n",
       "      <th>count</th>\n",
       "    </tr>\n",
       "  </thead>\n",
       "  <tbody>\n",
       "    <tr>\n",
       "      <th>0</th>\n",
       "      <td>7</td>\n",
       "      <td>2736</td>\n",
       "    </tr>\n",
       "    <tr>\n",
       "      <th>1</th>\n",
       "      <td>8</td>\n",
       "      <td>3436</td>\n",
       "    </tr>\n",
       "    <tr>\n",
       "      <th>2</th>\n",
       "      <td>9</td>\n",
       "      <td>3738</td>\n",
       "    </tr>\n",
       "    <tr>\n",
       "      <th>3</th>\n",
       "      <td>10</td>\n",
       "      <td>3206</td>\n",
       "    </tr>\n",
       "    <tr>\n",
       "      <th>4</th>\n",
       "      <td>11</td>\n",
       "      <td>2700</td>\n",
       "    </tr>\n",
       "    <tr>\n",
       "      <th>5</th>\n",
       "      <td>12</td>\n",
       "      <td>1545</td>\n",
       "    </tr>\n",
       "  </tbody>\n",
       "</table>\n",
       "</div>"
      ],
      "text/plain": [
       "   month  count\n",
       "0      7   2736\n",
       "1      8   3436\n",
       "2      9   3738\n",
       "3     10   3206\n",
       "4     11   2700\n",
       "5     12   1545"
      ]
     },
     "execution_count": 19,
     "metadata": {},
     "output_type": "execute_result"
    }
   ],
   "source": [
    "monthly_count_total = listening_history_df.groupby([\"month\"]).size().reset_index()\n",
    "monthly_count_total.columns = ['month','count']\n",
    "monthly_count_total"
   ]
  },
  {
   "cell_type": "markdown",
   "metadata": {},
   "source": [
    "### Top Tracks by Day of Week\n",
    "0 = Monday, 6 = Sunday. Jesus on Sundays and Drake during the week."
   ]
  },
  {
   "cell_type": "code",
   "execution_count": 20,
   "metadata": {},
   "outputs": [],
   "source": [
    "weekday_count = listening_history_df.groupby([\"weekday\",\"title\"]).size().reset_index()\n",
    "weekday_count.columns = [\"weekday\",\"title\",\"count\"]"
   ]
  },
  {
   "cell_type": "code",
   "execution_count": 21,
   "metadata": {
    "scrolled": true
   },
   "outputs": [
    {
     "data": {
      "text/html": [
       "<div>\n",
       "<style scoped>\n",
       "    .dataframe tbody tr th:only-of-type {\n",
       "        vertical-align: middle;\n",
       "    }\n",
       "\n",
       "    .dataframe tbody tr th {\n",
       "        vertical-align: top;\n",
       "    }\n",
       "\n",
       "    .dataframe thead th {\n",
       "        text-align: right;\n",
       "    }\n",
       "</style>\n",
       "<table border=\"1\" class=\"dataframe\">\n",
       "  <thead>\n",
       "    <tr style=\"text-align: right;\">\n",
       "      <th></th>\n",
       "      <th>weekday</th>\n",
       "      <th>title</th>\n",
       "      <th>count</th>\n",
       "    </tr>\n",
       "  </thead>\n",
       "  <tbody>\n",
       "    <tr>\n",
       "      <th>0</th>\n",
       "      <td>0</td>\n",
       "      <td>Time Flies</td>\n",
       "      <td>28</td>\n",
       "    </tr>\n",
       "    <tr>\n",
       "      <th>1</th>\n",
       "      <td>1</td>\n",
       "      <td>Laugh Now Cry Later (feat. Lil Durk)</td>\n",
       "      <td>19</td>\n",
       "    </tr>\n",
       "    <tr>\n",
       "      <th>2</th>\n",
       "      <td>2</td>\n",
       "      <td>Build My Life</td>\n",
       "      <td>24</td>\n",
       "    </tr>\n",
       "    <tr>\n",
       "      <th>3</th>\n",
       "      <td>3</td>\n",
       "      <td>Saved</td>\n",
       "      <td>16</td>\n",
       "    </tr>\n",
       "    <tr>\n",
       "      <th>4</th>\n",
       "      <td>4</td>\n",
       "      <td>Laugh Now Cry Later (feat. Lil Durk)</td>\n",
       "      <td>18</td>\n",
       "    </tr>\n",
       "    <tr>\n",
       "      <th>5</th>\n",
       "      <td>5</td>\n",
       "      <td>Laugh Now Cry Later (feat. Lil Durk)</td>\n",
       "      <td>22</td>\n",
       "    </tr>\n",
       "    <tr>\n",
       "      <th>6</th>\n",
       "      <td>6</td>\n",
       "      <td>Cornerstone - Live</td>\n",
       "      <td>17</td>\n",
       "    </tr>\n",
       "  </tbody>\n",
       "</table>\n",
       "</div>"
      ],
      "text/plain": [
       "   weekday                                 title  count\n",
       "0        0                            Time Flies     28\n",
       "1        1  Laugh Now Cry Later (feat. Lil Durk)     19\n",
       "2        2                         Build My Life     24\n",
       "3        3                                 Saved     16\n",
       "4        4  Laugh Now Cry Later (feat. Lil Durk)     18\n",
       "5        5  Laugh Now Cry Later (feat. Lil Durk)     22\n",
       "6        6                    Cornerstone - Live     17"
      ]
     },
     "execution_count": 21,
     "metadata": {},
     "output_type": "execute_result"
    }
   ],
   "source": [
    "weekday_count.groupby(\"weekday\").apply(lambda x: x.nlargest(1, \"count\")).reset_index(drop=True)"
   ]
  },
  {
   "cell_type": "markdown",
   "metadata": {},
   "source": [
    "### Top Tracks by Release Date\n",
    "Here you can see that I am biased to listen to recent music. I always want to try and find the newest bop to stay relevant you know. Although I am a sucker for my 2000's"
   ]
  },
  {
   "cell_type": "code",
   "execution_count": 22,
   "metadata": {},
   "outputs": [
    {
     "data": {
      "image/png": "[encoded data removed]"
     },
     "metadata": {},
     "output_type": "display_data"
    }
   ],
   "source": [
    "create_histogram(listening_history_df, \"year\")"
   ]
  },
  {
   "cell_type": "code",
   "execution_count": 23,
   "metadata": {},
   "outputs": [
    {
     "data": {
      "image/png": "[encoded data removed]"
     },
     "metadata": {},
     "output_type": "display_data"
    }
   ],
   "source": [
    "create_distplot(listening_history_df, \"year\")"
   ]
  },
  {
   "cell_type": "code",
   "execution_count": 24,
   "metadata": {},
   "outputs": [],
   "source": [
    "yearly_count = listening_history_df.groupby([\"year\",\"title\"]).size().reset_index()\n",
    "yearly_count.columns = [\"year\",\"title\",\"count\"]"
   ]
  },
  {
   "cell_type": "code",
   "execution_count": 25,
   "metadata": {},
   "outputs": [
    {
     "data": {
      "text/html": [
       "<div>\n",
       "<style scoped>\n",
       "    .dataframe tbody tr th:only-of-type {\n",
       "        vertical-align: middle;\n",
       "    }\n",
       "\n",
       "    .dataframe tbody tr th {\n",
       "        vertical-align: top;\n",
       "    }\n",
       "\n",
       "    .dataframe thead th {\n",
       "        text-align: right;\n",
       "    }\n",
       "</style>\n",
       "<table border=\"1\" class=\"dataframe\">\n",
       "  <thead>\n",
       "    <tr style=\"text-align: right;\">\n",
       "      <th></th>\n",
       "      <th>year</th>\n",
       "      <th>title</th>\n",
       "      <th>count</th>\n",
       "    </tr>\n",
       "  </thead>\n",
       "  <tbody>\n",
       "    <tr>\n",
       "      <th>61</th>\n",
       "      <td>2020</td>\n",
       "      <td>Laugh Now Cry Later (feat. Lil Durk)</td>\n",
       "      <td>109</td>\n",
       "    </tr>\n",
       "    <tr>\n",
       "      <th>60</th>\n",
       "      <td>2019</td>\n",
       "      <td>I Want You Around</td>\n",
       "      <td>76</td>\n",
       "    </tr>\n",
       "    <tr>\n",
       "      <th>59</th>\n",
       "      <td>2018</td>\n",
       "      <td>Plastic Love</td>\n",
       "      <td>76</td>\n",
       "    </tr>\n",
       "    <tr>\n",
       "      <th>58</th>\n",
       "      <td>2017</td>\n",
       "      <td>Slide (feat. Frank Ocean &amp; Migos)</td>\n",
       "      <td>53</td>\n",
       "    </tr>\n",
       "    <tr>\n",
       "      <th>57</th>\n",
       "      <td>2016</td>\n",
       "      <td>Build My Life</td>\n",
       "      <td>78</td>\n",
       "    </tr>\n",
       "    <tr>\n",
       "      <th>56</th>\n",
       "      <td>2015</td>\n",
       "      <td>C U Girl</td>\n",
       "      <td>33</td>\n",
       "    </tr>\n",
       "    <tr>\n",
       "      <th>55</th>\n",
       "      <td>2014</td>\n",
       "      <td>Aleluia</td>\n",
       "      <td>39</td>\n",
       "    </tr>\n",
       "    <tr>\n",
       "      <th>54</th>\n",
       "      <td>2013</td>\n",
       "      <td>Called Me Higher - Live</td>\n",
       "      <td>35</td>\n",
       "    </tr>\n",
       "    <tr>\n",
       "      <th>53</th>\n",
       "      <td>2012</td>\n",
       "      <td>Cornerstone - Live</td>\n",
       "      <td>44</td>\n",
       "    </tr>\n",
       "    <tr>\n",
       "      <th>52</th>\n",
       "      <td>2011</td>\n",
       "      <td>Novacane</td>\n",
       "      <td>8</td>\n",
       "    </tr>\n",
       "    <tr>\n",
       "      <th>51</th>\n",
       "      <td>2010</td>\n",
       "      <td>Pretty Boy Swag</td>\n",
       "      <td>18</td>\n",
       "    </tr>\n",
       "    <tr>\n",
       "      <th>50</th>\n",
       "      <td>2009</td>\n",
       "      <td>Day 'n' Nite (Nightmare)</td>\n",
       "      <td>6</td>\n",
       "    </tr>\n",
       "    <tr>\n",
       "      <th>49</th>\n",
       "      <td>2008</td>\n",
       "      <td>American Boy</td>\n",
       "      <td>14</td>\n",
       "    </tr>\n",
       "    <tr>\n",
       "      <th>48</th>\n",
       "      <td>2007</td>\n",
       "      <td>Massage Situation</td>\n",
       "      <td>23</td>\n",
       "    </tr>\n",
       "    <tr>\n",
       "      <th>47</th>\n",
       "      <td>2006</td>\n",
       "      <td>Amazing Grace (My Chains Are Gone)</td>\n",
       "      <td>29</td>\n",
       "    </tr>\n",
       "    <tr>\n",
       "      <th>46</th>\n",
       "      <td>2005</td>\n",
       "      <td>Do You Remember</td>\n",
       "      <td>22</td>\n",
       "    </tr>\n",
       "    <tr>\n",
       "      <th>45</th>\n",
       "      <td>2004</td>\n",
       "      <td>Cater 2 U</td>\n",
       "      <td>24</td>\n",
       "    </tr>\n",
       "    <tr>\n",
       "      <th>44</th>\n",
       "      <td>2003</td>\n",
       "      <td>If I Ain't Got You</td>\n",
       "      <td>38</td>\n",
       "    </tr>\n",
       "    <tr>\n",
       "      <th>43</th>\n",
       "      <td>2002</td>\n",
       "      <td>Swing, Swing</td>\n",
       "      <td>14</td>\n",
       "    </tr>\n",
       "    <tr>\n",
       "      <th>42</th>\n",
       "      <td>2001</td>\n",
       "      <td>Bibbidi-Bobbidi-Boo - From \"Cinderella\"</td>\n",
       "      <td>4</td>\n",
       "    </tr>\n",
       "  </tbody>\n",
       "</table>\n",
       "</div>"
      ],
      "text/plain": [
       "    year                                    title  count\n",
       "61  2020     Laugh Now Cry Later (feat. Lil Durk)    109\n",
       "60  2019                        I Want You Around     76\n",
       "59  2018                             Plastic Love     76\n",
       "58  2017        Slide (feat. Frank Ocean & Migos)     53\n",
       "57  2016                            Build My Life     78\n",
       "56  2015                                 C U Girl     33\n",
       "55  2014                                  Aleluia     39\n",
       "54  2013                  Called Me Higher - Live     35\n",
       "53  2012                       Cornerstone - Live     44\n",
       "52  2011                                 Novacane      8\n",
       "51  2010                          Pretty Boy Swag     18\n",
       "50  2009                 Day 'n' Nite (Nightmare)      6\n",
       "49  2008                             American Boy     14\n",
       "48  2007                        Massage Situation     23\n",
       "47  2006       Amazing Grace (My Chains Are Gone)     29\n",
       "46  2005                          Do You Remember     22\n",
       "45  2004                                Cater 2 U     24\n",
       "44  2003                       If I Ain't Got You     38\n",
       "43  2002                             Swing, Swing     14\n",
       "42  2001  Bibbidi-Bobbidi-Boo - From \"Cinderella\"      4"
      ]
     },
     "execution_count": 25,
     "metadata": {},
     "output_type": "execute_result"
    }
   ],
   "source": [
    "yearly_count.groupby(\"year\").apply(lambda x: x.nlargest(1, \"count\")).reset_index(drop=True).sort_values('year',ascending=0).head(n=20)"
   ]
  },
  {
   "cell_type": "markdown",
   "metadata": {},
   "source": [
    "### Distribution of Tracks by popularity\n",
    "For the most part I am listening to popular music. Somewhat basic I guess"
   ]
  },
  {
   "cell_type": "code",
   "execution_count": 26,
   "metadata": {},
   "outputs": [
    {
     "data": {
      "image/png": "[encoded data removed]"
     },
     "metadata": {},
     "output_type": "display_data"
    }
   ],
   "source": [
    "create_histogram(listening_history_df, \"popularity\")"
   ]
  },
  {
   "cell_type": "code",
   "execution_count": 27,
   "metadata": {},
   "outputs": [
    {
     "data": {
      "image/png": "[encoded data removed]"
     },
     "metadata": {},
     "output_type": "display_data"
    }
   ],
   "source": [
    "create_distplot(listening_history_df, \"popularity\")"
   ]
  },
  {
   "cell_type": "code",
   "execution_count": null,
   "metadata": {},
   "outputs": [],
   "source": []
  }
 ],
 "metadata": {
  "kernelspec": {
   "display_name": "Python 3",
   "language": "python",
   "name": "python3"
  },
  "language_info": {
   "codemirror_mode": {
    "name": "ipython",
    "version": 3
   },
   "file_extension": ".py",
   "mimetype": "text/x-python",
   "name": "python",
   "nbconvert_exporter": "python",
   "pygments_lexer": "ipython3",
   "version": "3.7.6"
  }
 },
 "nbformat": 4,
 "nbformat_minor": 4
}
