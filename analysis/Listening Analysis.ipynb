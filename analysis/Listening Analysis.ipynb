{
 "cells": [
  {
   "cell_type": "markdown",
   "metadata": {},
   "source": [
    "# Overview\n",
    "\n",
    "This analysis is using my personal listneing history from July 5, 2020 to December 5, 2020. Data was retreieved by connecting my spotify account to lastfm to be able to track everything I listen to. I then used pylast, and the spotify API to generate the dataframe being used in this analysis."
   ]
  },
  {
   "cell_type": "markdown",
   "metadata": {},
   "source": [
    "# Import Libraries"
   ]
  },
  {
   "cell_type": "code",
   "execution_count": null,
   "metadata": {},
   "outputs": [],
   "source": [
    "import pandas as pd\n",
    "from datetime import datetime\n",
    "import pytz\n",
    "import plotly.express as px\n",
    "import plotly.figure_factory as ff\n",
    "import numpy as np"
   ]
  },
  {
   "cell_type": "markdown",
   "metadata": {},
   "source": [
    "# Define Functions"
   ]
  },
  {
   "cell_type": "code",
   "execution_count": 2,
   "metadata": {},
   "outputs": [],
   "source": [
    "def create_histogram(df, col):\n",
    "    new_df = df.dropna()\n",
    "    fig = px.histogram(df, x=col)\n",
    "    fig.show(\"png\")\n",
    "    \n",
    "def create_distplot(df, col):\n",
    "    new_df = df.dropna()\n",
    "    hist_data = [new_df[col].tolist()]\n",
    "    group_labels = [\"{0}_label\".format(col)]\n",
    "\n",
    "    fig = ff.create_distplot(hist_data, group_labels)\n",
    "    fig.show(\"png\")"
   ]
  },
  {
   "cell_type": "markdown",
   "metadata": {},
   "source": [
    "# Read in the data from csv file"
   ]
  },
  {
   "cell_type": "code",
   "execution_count": 134,
   "metadata": {},
   "outputs": [],
   "source": [
    "listening_history_df = pd.read_csv(\"track_logs.csv\")"
   ]
  },
  {
   "cell_type": "code",
   "execution_count": 135,
   "metadata": {},
   "outputs": [],
   "source": [
    "# Need to format the data to be able to extract the month and year properly \n",
    "local_format = \"%d %b %Y, %H:%M\"\n",
    "gmt = pytz.timezone(\"GMT\")\n",
    "eastern = pytz.timezone(\"US/Eastern\")\n",
    "\n",
    "listening_history_df[\"playback_date_new\"] = [datetime.strptime(val, local_format) for val in listening_history_df[\"playback_date\"]]\n",
    "listening_history_df[\"eastern_time\"] = [gmt.localize(val).astimezone(eastern) for val in listening_history_df[\"playback_date_new\"]]\n",
    "listening_history_df[\"month\"] = [val.month for val in listening_history_df[\"eastern_time\"]]\n",
    "listening_history_df[\"year\"] = [int(val.split(\"-\")[0]) for val in listening_history_df[\"release_date\"]]"
   ]
  },
  {
   "cell_type": "markdown",
   "metadata": {},
   "source": [
    "### Top Tracks\n",
    "As you can see, there is stark contrast in the music that I listen to :) "
   ]
  },
  {
   "cell_type": "code",
   "execution_count": 146,
   "metadata": {},
   "outputs": [
    {
     "data": {
      "text/html": [
       "<div>\n",
       "<style scoped>\n",
       "    .dataframe tbody tr th:only-of-type {\n",
       "        vertical-align: middle;\n",
       "    }\n",
       "\n",
       "    .dataframe tbody tr th {\n",
       "        vertical-align: top;\n",
       "    }\n",
       "\n",
       "    .dataframe thead th {\n",
       "        text-align: right;\n",
       "    }\n",
       "</style>\n",
       "<table border=\"1\" class=\"dataframe\">\n",
       "  <thead>\n",
       "    <tr style=\"text-align: right;\">\n",
       "      <th></th>\n",
       "      <th>index</th>\n",
       "      <th>title</th>\n",
       "    </tr>\n",
       "  </thead>\n",
       "  <tbody>\n",
       "    <tr>\n",
       "      <th>0</th>\n",
       "      <td>Laugh Now Cry Later (feat. Lil Durk)</td>\n",
       "      <td>50</td>\n",
       "    </tr>\n",
       "    <tr>\n",
       "      <th>1</th>\n",
       "      <td>Woodlawn</td>\n",
       "      <td>45</td>\n",
       "    </tr>\n",
       "    <tr>\n",
       "      <th>2</th>\n",
       "      <td>Plastic Love</td>\n",
       "      <td>38</td>\n",
       "    </tr>\n",
       "    <tr>\n",
       "      <th>3</th>\n",
       "      <td>I Want You Around</td>\n",
       "      <td>38</td>\n",
       "    </tr>\n",
       "    <tr>\n",
       "      <th>4</th>\n",
       "      <td>Build My Life</td>\n",
       "      <td>37</td>\n",
       "    </tr>\n",
       "    <tr>\n",
       "      <th>5</th>\n",
       "      <td>All I Need (with Mahalia &amp; Ty Dolla $ign)</td>\n",
       "      <td>34</td>\n",
       "    </tr>\n",
       "    <tr>\n",
       "      <th>6</th>\n",
       "      <td>Where Were You in the Morning?</td>\n",
       "      <td>31</td>\n",
       "    </tr>\n",
       "    <tr>\n",
       "      <th>7</th>\n",
       "      <td>Chicago Freestyle (feat. Giveon)</td>\n",
       "      <td>31</td>\n",
       "    </tr>\n",
       "    <tr>\n",
       "      <th>8</th>\n",
       "      <td>Dynamite</td>\n",
       "      <td>30</td>\n",
       "    </tr>\n",
       "    <tr>\n",
       "      <th>9</th>\n",
       "      <td>Dragonball Durag</td>\n",
       "      <td>30</td>\n",
       "    </tr>\n",
       "  </tbody>\n",
       "</table>\n",
       "</div>"
      ],
      "text/plain": [
       "                                       index  title\n",
       "0       Laugh Now Cry Later (feat. Lil Durk)     50\n",
       "1                                   Woodlawn     45\n",
       "2                               Plastic Love     38\n",
       "3                          I Want You Around     38\n",
       "4                              Build My Life     37\n",
       "5  All I Need (with Mahalia & Ty Dolla $ign)     34\n",
       "6             Where Were You in the Morning?     31\n",
       "7           Chicago Freestyle (feat. Giveon)     31\n",
       "8                                   Dynamite     30\n",
       "9                           Dragonball Durag     30"
      ]
     },
     "execution_count": 146,
     "metadata": {},
     "output_type": "execute_result"
    }
   ],
   "source": [
    "listening_history_df[\"title\"].value_counts().reset_index().head(n=10)"
   ]
  },
  {
   "cell_type": "markdown",
   "metadata": {},
   "source": [
    "### Top Artists\n",
    "Ah yes, Drake as the top spot once again. It has been Drake for the last 3 years or so, gotta stay loyal to my guy from the 6ix."
   ]
  },
  {
   "cell_type": "code",
   "execution_count": 147,
   "metadata": {},
   "outputs": [
    {
     "data": {
      "text/html": [
       "<div>\n",
       "<style scoped>\n",
       "    .dataframe tbody tr th:only-of-type {\n",
       "        vertical-align: middle;\n",
       "    }\n",
       "\n",
       "    .dataframe tbody tr th {\n",
       "        vertical-align: top;\n",
       "    }\n",
       "\n",
       "    .dataframe thead th {\n",
       "        text-align: right;\n",
       "    }\n",
       "</style>\n",
       "<table border=\"1\" class=\"dataframe\">\n",
       "  <thead>\n",
       "    <tr style=\"text-align: right;\">\n",
       "      <th></th>\n",
       "      <th>index</th>\n",
       "      <th>artist</th>\n",
       "    </tr>\n",
       "  </thead>\n",
       "  <tbody>\n",
       "    <tr>\n",
       "      <th>0</th>\n",
       "      <td>Drake</td>\n",
       "      <td>246</td>\n",
       "    </tr>\n",
       "    <tr>\n",
       "      <th>1</th>\n",
       "      <td>Kanye West</td>\n",
       "      <td>184</td>\n",
       "    </tr>\n",
       "    <tr>\n",
       "      <th>2</th>\n",
       "      <td>Frank Ocean</td>\n",
       "      <td>171</td>\n",
       "    </tr>\n",
       "    <tr>\n",
       "      <th>3</th>\n",
       "      <td>Hillsong Worship</td>\n",
       "      <td>170</td>\n",
       "    </tr>\n",
       "    <tr>\n",
       "      <th>4</th>\n",
       "      <td>Shawn Mendes</td>\n",
       "      <td>155</td>\n",
       "    </tr>\n",
       "    <tr>\n",
       "      <th>5</th>\n",
       "      <td>Housefires</td>\n",
       "      <td>147</td>\n",
       "    </tr>\n",
       "    <tr>\n",
       "      <th>6</th>\n",
       "      <td>Aminé</td>\n",
       "      <td>109</td>\n",
       "    </tr>\n",
       "    <tr>\n",
       "      <th>7</th>\n",
       "      <td>Elevation Worship</td>\n",
       "      <td>103</td>\n",
       "    </tr>\n",
       "    <tr>\n",
       "      <th>8</th>\n",
       "      <td>Jaden</td>\n",
       "      <td>93</td>\n",
       "    </tr>\n",
       "    <tr>\n",
       "      <th>9</th>\n",
       "      <td>BTS</td>\n",
       "      <td>90</td>\n",
       "    </tr>\n",
       "  </tbody>\n",
       "</table>\n",
       "</div>"
      ],
      "text/plain": [
       "               index  artist\n",
       "0              Drake     246\n",
       "1         Kanye West     184\n",
       "2        Frank Ocean     171\n",
       "3   Hillsong Worship     170\n",
       "4       Shawn Mendes     155\n",
       "5         Housefires     147\n",
       "6              Aminé     109\n",
       "7  Elevation Worship     103\n",
       "8              Jaden      93\n",
       "9                BTS      90"
      ]
     },
     "execution_count": 147,
     "metadata": {},
     "output_type": "execute_result"
    }
   ],
   "source": [
    "listening_history_df[\"artist\"].value_counts().reset_index().head(n=10)"
   ]
  },
  {
   "cell_type": "markdown",
   "metadata": {},
   "source": [
    "### Exploring genre data\n",
    "To properly look at the genre data we first need to format them. They show up as a single column that looks something like ['hip hop', 'pop']. I had to parse every unique genre out and then see which ones showed up for every track."
   ]
  },
  {
   "cell_type": "code",
   "execution_count": 103,
   "metadata": {},
   "outputs": [],
   "source": [
    "genre_cleanup_df = listening_history_df[[\"artist\",\"genres\"]].drop_duplicates().dropna()\n",
    "genres = list(set(genre_cleanup_df[\"genres\"]))"
   ]
  },
  {
   "cell_type": "code",
   "execution_count": 104,
   "metadata": {},
   "outputs": [],
   "source": [
    "cleaned_genres = [\n",
    "    (((val\n",
    "             .replace(\"'\",\"\")) # Get rid of '\n",
    "            .replace(\"[\",\"\")) # Get rid of [\n",
    "        .replace(\"]\",\"\")) # Get rid of ]\n",
    "    .split(\", \") # Turn the string into a list\n",
    "    \n",
    "    for val in genres if val != \"[]\"\n",
    "]\n",
    "\n",
    "# Getting a list of the unique genres\n",
    "final_genre_list =  list(set(sum(cleaned_genres, [])))"
   ]
  },
  {
   "cell_type": "code",
   "execution_count": 105,
   "metadata": {},
   "outputs": [],
   "source": [
    "for val in final_genre_list:\n",
    "    genre_cleanup_df[val] = np.nan\n",
    "    new_list = []\n",
    "    for elem in genre_cleanup_df[\"genres\"]:\n",
    "        if val in elem:\n",
    "            new_list.append(1)\n",
    "        else:\n",
    "            new_list.append(0)\n",
    "    genre_cleanup_df[val] = new_list"
   ]
  },
  {
   "cell_type": "code",
   "execution_count": 106,
   "metadata": {},
   "outputs": [],
   "source": [
    "genre_counts = genre_cleanup_df[final_genre_list].sum().reset_index()\n",
    "genre_counts.columns = [\"genre\",\"count\"]"
   ]
  },
  {
   "cell_type": "markdown",
   "metadata": {},
   "source": [
    "Looking at the results for the top 15 genres, it is not too surprising. We can see pop on top as there is overlap with hip hop and rap as well "
   ]
  },
  {
   "cell_type": "code",
   "execution_count": 118,
   "metadata": {},
   "outputs": [
    {
     "name": "stdout",
     "output_type": "stream",
     "text": [
      "There are 114 pop songs that overlap with hip hop\n",
      "There are 166 pop songs that overlap with rap\n",
      "There are 149 pop songs that overlap with r&b\n"
     ]
    }
   ],
   "source": [
    "hip_hop_overlap = len(genre_cleanup_df[(genre_cleanup_df[\"pop\"] == 1) & (genre_cleanup_df[\"hip hop\"] == 1)])\n",
    "rap_overlap = len(genre_cleanup_df[(genre_cleanup_df[\"pop\"] == 1) & (genre_cleanup_df[\"rap\"] == 1)])\n",
    "rb_overlap = len(genre_cleanup_df[(genre_cleanup_df[\"pop\"] == 1) & (genre_cleanup_df[\"r&b\"] == 1)])\n",
    "\n",
    "print(\"There are {0} pop songs that overlap with hip hop\".format(hip_hop_overlap))\n",
    "print(\"There are {0} pop songs that overlap with rap\".format(rap_overlap))\n",
    "print(\"There are {0} pop songs that overlap with r&b\".format(rb_overlap))"
   ]
  },
  {
   "cell_type": "code",
   "execution_count": 107,
   "metadata": {},
   "outputs": [
    {
     "data": {
      "text/html": [
       "<div>\n",
       "<style scoped>\n",
       "    .dataframe tbody tr th:only-of-type {\n",
       "        vertical-align: middle;\n",
       "    }\n",
       "\n",
       "    .dataframe tbody tr th {\n",
       "        vertical-align: top;\n",
       "    }\n",
       "\n",
       "    .dataframe thead th {\n",
       "        text-align: right;\n",
       "    }\n",
       "</style>\n",
       "<table border=\"1\" class=\"dataframe\">\n",
       "  <thead>\n",
       "    <tr style=\"text-align: right;\">\n",
       "      <th></th>\n",
       "      <th>genre</th>\n",
       "      <th>count</th>\n",
       "    </tr>\n",
       "  </thead>\n",
       "  <tbody>\n",
       "    <tr>\n",
       "      <th>660</th>\n",
       "      <td>pop</td>\n",
       "      <td>572</td>\n",
       "    </tr>\n",
       "    <tr>\n",
       "      <th>140</th>\n",
       "      <td>hip hop</td>\n",
       "      <td>367</td>\n",
       "    </tr>\n",
       "    <tr>\n",
       "      <th>225</th>\n",
       "      <td>rap</td>\n",
       "      <td>350</td>\n",
       "    </tr>\n",
       "    <tr>\n",
       "      <th>316</th>\n",
       "      <td>r&amp;b</td>\n",
       "      <td>347</td>\n",
       "    </tr>\n",
       "    <tr>\n",
       "      <th>520</th>\n",
       "      <td>soul</td>\n",
       "      <td>271</td>\n",
       "    </tr>\n",
       "    <tr>\n",
       "      <th>619</th>\n",
       "      <td>alternative r&amp;b</td>\n",
       "      <td>166</td>\n",
       "    </tr>\n",
       "    <tr>\n",
       "      <th>223</th>\n",
       "      <td>rock</td>\n",
       "      <td>155</td>\n",
       "    </tr>\n",
       "    <tr>\n",
       "      <th>588</th>\n",
       "      <td>trap</td>\n",
       "      <td>151</td>\n",
       "    </tr>\n",
       "    <tr>\n",
       "      <th>490</th>\n",
       "      <td>christian</td>\n",
       "      <td>134</td>\n",
       "    </tr>\n",
       "    <tr>\n",
       "      <th>442</th>\n",
       "      <td>dance pop</td>\n",
       "      <td>130</td>\n",
       "    </tr>\n",
       "    <tr>\n",
       "      <th>205</th>\n",
       "      <td>pop rap</td>\n",
       "      <td>129</td>\n",
       "    </tr>\n",
       "    <tr>\n",
       "      <th>559</th>\n",
       "      <td>indie r&amp;b</td>\n",
       "      <td>127</td>\n",
       "    </tr>\n",
       "    <tr>\n",
       "      <th>338</th>\n",
       "      <td>indie soul</td>\n",
       "      <td>119</td>\n",
       "    </tr>\n",
       "    <tr>\n",
       "      <th>648</th>\n",
       "      <td>worship</td>\n",
       "      <td>117</td>\n",
       "    </tr>\n",
       "    <tr>\n",
       "      <th>206</th>\n",
       "      <td>underground hip hop</td>\n",
       "      <td>98</td>\n",
       "    </tr>\n",
       "  </tbody>\n",
       "</table>\n",
       "</div>"
      ],
      "text/plain": [
       "                   genre  count\n",
       "660                  pop    572\n",
       "140              hip hop    367\n",
       "225                  rap    350\n",
       "316                  r&b    347\n",
       "520                 soul    271\n",
       "619      alternative r&b    166\n",
       "223                 rock    155\n",
       "588                 trap    151\n",
       "490            christian    134\n",
       "442            dance pop    130\n",
       "205              pop rap    129\n",
       "559            indie r&b    127\n",
       "338           indie soul    119\n",
       "648              worship    117\n",
       "206  underground hip hop     98"
      ]
     },
     "execution_count": 107,
     "metadata": {},
     "output_type": "execute_result"
    }
   ],
   "source": [
    "genre_counts.sort_values(\"count\",ascending=0).head(n=15)"
   ]
  },
  {
   "cell_type": "code",
   "execution_count": 121,
   "metadata": {},
   "outputs": [
    {
     "name": "stdout",
     "output_type": "stream",
     "text": [
      "There are 672 unqiue genres that you listen to\n"
     ]
    }
   ],
   "source": [
    "unique_genres = len(final_genre_list)\n",
    "print(\"There are {0} unqiue genres that you listen to\".format(unique_genres))"
   ]
  },
  {
   "cell_type": "markdown",
   "metadata": {},
   "source": [
    "Something interesting is how many regional sub genres there are. Some examples below include the pop and hip hop genres. I had no idea there were this many sub genres and I had no idea I listened to irish hip hop :shrug:"
   ]
  },
  {
   "cell_type": "code",
   "execution_count": 145,
   "metadata": {},
   "outputs": [
    {
     "name": "stdout",
     "output_type": "stream",
     "text": [
      "There are 100 pop sub-genres\n",
      "\n",
      "['alternative pop rock', 'pop urbaine', 'gauze pop', 'vapor pop', 'acoustic pop', 'indie pop rap', 'bubblegum pop', 'modern alternative pop', 'pop rock', 'baroque pop', 'swedish indie pop', 'chinese electropop', 'art pop', 'indie electropop', 'etherpop', 'swedish electropop', 'k-pop', 'korean pop', 'malaysian pop', 'classic country pop', 'canadian pop', 'chamber pop', 'scandipop', 'psychedelic pop', 'social media pop', 'christian pop', 'indie cafe pop', 'pop rap', 'pop r&b', 'popping', 'dream pop', 'colombian pop', 'channel pop', 'latin pop', 'hip pop', 'dutch pop', 'j-pop', 'shimmer pop', 'pop emo', 'bedroom pop', 'icelandic pop', 'ghanaian pop', 'neon pop punk', 'nyc pop', 'shiver pop', 'soda pop', 'polynesian pop', 'barbadian pop', 'swedish synthpop', 'new wave pop', 'brill building pop', 'electropop', 'modern dream pop', 'chill pop', 'indie dream pop', 'bow pop', 'afropop', 'pop punk', 'pop dance', 'dance pop', 'sophisti-pop', 'nz pop', 'pop edm', 'experimental pop', 'musica popular mineira', 'indie pop', 'folk-pop', 'candy pop', 'south african pop', 'nederpop', 'neo-synthpop', 'australian pop', 'post-teen pop', 'k-pop boy group', 'hyperpop', 'europop', 'modern indie pop', 'french synthpop', 'nigerian pop', 'sudanese pop', 'k-pop girl group', 'pop folk', 'japanese indie pop', 'korean city pop', 'classic uk pop', 'german pop', 'uk alternative pop', 'pop soul', 'jazz pop', 'la pop', 'modern power pop', 'indie poptimism', 'uk pop', 'j-poprock', 'dominican pop', 'japanese city pop', 'pop', 'norwegian pop', 'viral pop', 'metropopolis']\n"
     ]
    }
   ],
   "source": [
    "pop_sub_genres = [val for val in final_genre_list if \"pop\" in val]\n",
    "print(\"There are {0} pop sub-genres\\n\".format(len(pop_sub_genres)))\n",
    "print(pop_sub_genres)"
   ]
  },
  {
   "cell_type": "code",
   "execution_count": 144,
   "metadata": {
    "scrolled": true
   },
   "outputs": [
    {
     "name": "stdout",
     "output_type": "stream",
     "text": [
      "There are 57 hip hop sub-genres\n",
      "\n",
      "['east coast hip hop', 'boston hip hop', 'buffalo hip hop', 'portland hip hop', 'industrial hip hop', 'nigerian hip hop', 'irish hip hop', 'brazilian hip hop', 'australian hip hop', 'miami hip hop', 'uk alternative hip hop', 'psychedelic hip hop', 'hip hop', 'atl hip hop', 'southern hip hop', 'kentucky hip hop', 'zambian hip hop', 'christian hip hop', 'underground hip hop', 'deep underground hip hop', 'south african hip hop', 'hardcore hip hop', 'french hip hop', 'manchester hip hop', 'ohio hip hop', 'old school hip hop', 'indonesian hip hop', 'virginia hip hop', 'political hip hop', 'canadian hip hop', 'queens hip hop', 'lgbtq+ hip hop', 'experimental hip hop', 'tennessee hip hop', 'memphis hip hop', 'nashville hip hop', 'belgian hip hop', 'milwaukee hip hop', 'winnipeg hip hop', 'arkansas hip hop', 'birmingham hip hop', 'alternative hip hop', 'indiana hip hop', 'harlem hip hop', 'indie hip hop', 'hawaiian hip hop', 'asian american hip hop', 'conscious hip hop', 'minnesota hip hop', 'uk hip hop', 'south carolina hip hop', 'bronx hip hop', 'bc underground hip hop', 'north carolina hip hop', 'ghanaian hip hop', 'mississippi hip hop', 'detroit hip hop']\n"
     ]
    }
   ],
   "source": [
    "hip_hop_sub_genres = [val for val in final_genre_list if \"hip hop\" in val]\n",
    "print(\"There are {0} hip hop sub-genres\\n\".format(len(hip_hop_sub_genres)))\n",
    "print(hip_hop_sub_genres)"
   ]
  },
  {
   "cell_type": "markdown",
   "metadata": {},
   "source": [
    "### Top tracks by month\n",
    "Yes I had a Shawn Mendes phase."
   ]
  },
  {
   "cell_type": "code",
   "execution_count": null,
   "metadata": {},
   "outputs": [],
   "source": [
    "monthly_count = listening_history_df.groupby([\"month\",\"title\"]).size().reset_index()\n",
    "monthly_count.columns = [\"month\",\"title\",\"count\"]"
   ]
  },
  {
   "cell_type": "code",
   "execution_count": 8,
   "metadata": {},
   "outputs": [
    {
     "data": {
      "text/html": [
       "<div>\n",
       "<style scoped>\n",
       "    .dataframe tbody tr th:only-of-type {\n",
       "        vertical-align: middle;\n",
       "    }\n",
       "\n",
       "    .dataframe tbody tr th {\n",
       "        vertical-align: top;\n",
       "    }\n",
       "\n",
       "    .dataframe thead th {\n",
       "        text-align: right;\n",
       "    }\n",
       "</style>\n",
       "<table border=\"1\" class=\"dataframe\">\n",
       "  <thead>\n",
       "    <tr style=\"text-align: right;\">\n",
       "      <th></th>\n",
       "      <th>month</th>\n",
       "      <th>title</th>\n",
       "      <th>count</th>\n",
       "    </tr>\n",
       "  </thead>\n",
       "  <tbody>\n",
       "    <tr>\n",
       "      <th>0</th>\n",
       "      <td>7</td>\n",
       "      <td>Chicago Freestyle (feat. Giveon)</td>\n",
       "      <td>6</td>\n",
       "    </tr>\n",
       "    <tr>\n",
       "      <th>1</th>\n",
       "      <td>8</td>\n",
       "      <td>Anthem // Great Are You Lord - Live</td>\n",
       "      <td>19</td>\n",
       "    </tr>\n",
       "    <tr>\n",
       "      <th>2</th>\n",
       "      <td>9</td>\n",
       "      <td>Slide (feat. Frank Ocean &amp; Migos)</td>\n",
       "      <td>10</td>\n",
       "    </tr>\n",
       "    <tr>\n",
       "      <th>3</th>\n",
       "      <td>10</td>\n",
       "      <td>Where Were You in the Morning?</td>\n",
       "      <td>22</td>\n",
       "    </tr>\n",
       "    <tr>\n",
       "      <th>4</th>\n",
       "      <td>11</td>\n",
       "      <td>Time Flies</td>\n",
       "      <td>14</td>\n",
       "    </tr>\n",
       "    <tr>\n",
       "      <th>5</th>\n",
       "      <td>12</td>\n",
       "      <td>Wonder</td>\n",
       "      <td>4</td>\n",
       "    </tr>\n",
       "  </tbody>\n",
       "</table>\n",
       "</div>"
      ],
      "text/plain": [
       "   month                                title  count\n",
       "0      7     Chicago Freestyle (feat. Giveon)      6\n",
       "1      8  Anthem // Great Are You Lord - Live     19\n",
       "2      9    Slide (feat. Frank Ocean & Migos)     10\n",
       "3     10       Where Were You in the Morning?     22\n",
       "4     11                           Time Flies     14\n",
       "5     12                               Wonder      4"
      ]
     },
     "execution_count": 8,
     "metadata": {},
     "output_type": "execute_result"
    }
   ],
   "source": [
    "monthly_count.groupby(\"month\").apply(lambda x: x.nlargest(1, \"count\")).reset_index(drop=True)"
   ]
  },
  {
   "cell_type": "markdown",
   "metadata": {},
   "source": [
    "### Top Tracks by Day of Week\n",
    "0 = Monday, 6 = Sunday. Jesus on Sundays and Drake during the week."
   ]
  },
  {
   "cell_type": "code",
   "execution_count": null,
   "metadata": {},
   "outputs": [],
   "source": [
    "weekday_count = listening_history_df.groupby([\"weekday\",\"title\"]).size().reset_index()\n",
    "weekday_count.columns = [\"weekday\",\"title\",\"count\"]"
   ]
  },
  {
   "cell_type": "code",
   "execution_count": 9,
   "metadata": {
    "scrolled": true
   },
   "outputs": [
    {
     "data": {
      "text/html": [
       "<div>\n",
       "<style scoped>\n",
       "    .dataframe tbody tr th:only-of-type {\n",
       "        vertical-align: middle;\n",
       "    }\n",
       "\n",
       "    .dataframe tbody tr th {\n",
       "        vertical-align: top;\n",
       "    }\n",
       "\n",
       "    .dataframe thead th {\n",
       "        text-align: right;\n",
       "    }\n",
       "</style>\n",
       "<table border=\"1\" class=\"dataframe\">\n",
       "  <thead>\n",
       "    <tr style=\"text-align: right;\">\n",
       "      <th></th>\n",
       "      <th>weekday</th>\n",
       "      <th>title</th>\n",
       "      <th>count</th>\n",
       "    </tr>\n",
       "  </thead>\n",
       "  <tbody>\n",
       "    <tr>\n",
       "      <th>0</th>\n",
       "      <td>0</td>\n",
       "      <td>Time Flies</td>\n",
       "      <td>14</td>\n",
       "    </tr>\n",
       "    <tr>\n",
       "      <th>1</th>\n",
       "      <td>1</td>\n",
       "      <td>Laugh Now Cry Later (feat. Lil Durk)</td>\n",
       "      <td>9</td>\n",
       "    </tr>\n",
       "    <tr>\n",
       "      <th>2</th>\n",
       "      <td>2</td>\n",
       "      <td>Build My Life</td>\n",
       "      <td>12</td>\n",
       "    </tr>\n",
       "    <tr>\n",
       "      <th>3</th>\n",
       "      <td>3</td>\n",
       "      <td>Saved</td>\n",
       "      <td>8</td>\n",
       "    </tr>\n",
       "    <tr>\n",
       "      <th>4</th>\n",
       "      <td>4</td>\n",
       "      <td>All I Need (with Mahalia &amp; Ty Dolla $ign)</td>\n",
       "      <td>8</td>\n",
       "    </tr>\n",
       "    <tr>\n",
       "      <th>5</th>\n",
       "      <td>5</td>\n",
       "      <td>Goodness Of God (Live)</td>\n",
       "      <td>11</td>\n",
       "    </tr>\n",
       "    <tr>\n",
       "      <th>6</th>\n",
       "      <td>6</td>\n",
       "      <td>Cornerstone - Live</td>\n",
       "      <td>8</td>\n",
       "    </tr>\n",
       "  </tbody>\n",
       "</table>\n",
       "</div>"
      ],
      "text/plain": [
       "   weekday                                      title  count\n",
       "0        0                                 Time Flies     14\n",
       "1        1       Laugh Now Cry Later (feat. Lil Durk)      9\n",
       "2        2                              Build My Life     12\n",
       "3        3                                      Saved      8\n",
       "4        4  All I Need (with Mahalia & Ty Dolla $ign)      8\n",
       "5        5                     Goodness Of God (Live)     11\n",
       "6        6                         Cornerstone - Live      8"
      ]
     },
     "execution_count": 9,
     "metadata": {},
     "output_type": "execute_result"
    }
   ],
   "source": [
    "weekday_count.groupby(\"weekday\").apply(lambda x: x.nlargest(1, \"count\")).reset_index(drop=True)"
   ]
  },
  {
   "cell_type": "markdown",
   "metadata": {},
   "source": [
    "### Top Tracks by Release Date\n",
    "Here you can see that I am biased to listen to recent music. I always want to try and find the newest bop to stay relevant you know. Although I am a sucker for my 2000's"
   ]
  },
  {
   "cell_type": "code",
   "execution_count": 153,
   "metadata": {},
   "outputs": [
    {
     "data": {
      "image/png": "[encoded data removed]"
     },
     "metadata": {},
     "output_type": "display_data"
    }
   ],
   "source": [
    "create_histogram(listening_history_df, \"year\")"
   ]
  },
  {
   "cell_type": "code",
   "execution_count": 154,
   "metadata": {},
   "outputs": [
    {
     "data": {
      "image/png": "[encoded data removed]"
     },
     "metadata": {},
     "output_type": "display_data"
    }
   ],
   "source": [
    "create_distplot(listening_history_df, \"year\")"
   ]
  },
  {
   "cell_type": "code",
   "execution_count": 148,
   "metadata": {},
   "outputs": [],
   "source": [
    "yearly_count = listening_history_df.groupby([\"year\",\"title\"]).size().reset_index()\n",
    "yearly_count.columns = [\"year\",\"title\",\"count\"]"
   ]
  },
  {
   "cell_type": "code",
   "execution_count": 152,
   "metadata": {},
   "outputs": [
    {
     "data": {
      "text/html": [
       "<div>\n",
       "<style scoped>\n",
       "    .dataframe tbody tr th:only-of-type {\n",
       "        vertical-align: middle;\n",
       "    }\n",
       "\n",
       "    .dataframe tbody tr th {\n",
       "        vertical-align: top;\n",
       "    }\n",
       "\n",
       "    .dataframe thead th {\n",
       "        text-align: right;\n",
       "    }\n",
       "</style>\n",
       "<table border=\"1\" class=\"dataframe\">\n",
       "  <thead>\n",
       "    <tr style=\"text-align: right;\">\n",
       "      <th></th>\n",
       "      <th>year</th>\n",
       "      <th>title</th>\n",
       "      <th>count</th>\n",
       "    </tr>\n",
       "  </thead>\n",
       "  <tbody>\n",
       "    <tr>\n",
       "      <th>59</th>\n",
       "      <td>2020</td>\n",
       "      <td>Laugh Now Cry Later (feat. Lil Durk)</td>\n",
       "      <td>50</td>\n",
       "    </tr>\n",
       "    <tr>\n",
       "      <th>58</th>\n",
       "      <td>2019</td>\n",
       "      <td>I Want You Around</td>\n",
       "      <td>38</td>\n",
       "    </tr>\n",
       "    <tr>\n",
       "      <th>57</th>\n",
       "      <td>2018</td>\n",
       "      <td>Plastic Love</td>\n",
       "      <td>38</td>\n",
       "    </tr>\n",
       "    <tr>\n",
       "      <th>56</th>\n",
       "      <td>2017</td>\n",
       "      <td>Slide (feat. Frank Ocean &amp; Migos)</td>\n",
       "      <td>26</td>\n",
       "    </tr>\n",
       "    <tr>\n",
       "      <th>55</th>\n",
       "      <td>2016</td>\n",
       "      <td>Build My Life</td>\n",
       "      <td>37</td>\n",
       "    </tr>\n",
       "    <tr>\n",
       "      <th>54</th>\n",
       "      <td>2015</td>\n",
       "      <td>C U Girl</td>\n",
       "      <td>16</td>\n",
       "    </tr>\n",
       "    <tr>\n",
       "      <th>53</th>\n",
       "      <td>2014</td>\n",
       "      <td>Aleluia</td>\n",
       "      <td>20</td>\n",
       "    </tr>\n",
       "    <tr>\n",
       "      <th>52</th>\n",
       "      <td>2013</td>\n",
       "      <td>Called Me Higher - Live</td>\n",
       "      <td>17</td>\n",
       "    </tr>\n",
       "    <tr>\n",
       "      <th>51</th>\n",
       "      <td>2012</td>\n",
       "      <td>Cornerstone - Live</td>\n",
       "      <td>21</td>\n",
       "    </tr>\n",
       "    <tr>\n",
       "      <th>50</th>\n",
       "      <td>2011</td>\n",
       "      <td>Novacane</td>\n",
       "      <td>4</td>\n",
       "    </tr>\n",
       "    <tr>\n",
       "      <th>49</th>\n",
       "      <td>2010</td>\n",
       "      <td>Pretty Boy Swag</td>\n",
       "      <td>9</td>\n",
       "    </tr>\n",
       "    <tr>\n",
       "      <th>48</th>\n",
       "      <td>2009</td>\n",
       "      <td>Day 'n' Nite (Nightmare)</td>\n",
       "      <td>3</td>\n",
       "    </tr>\n",
       "    <tr>\n",
       "      <th>47</th>\n",
       "      <td>2008</td>\n",
       "      <td>American Boy</td>\n",
       "      <td>7</td>\n",
       "    </tr>\n",
       "    <tr>\n",
       "      <th>46</th>\n",
       "      <td>2007</td>\n",
       "      <td>Massage Situation</td>\n",
       "      <td>11</td>\n",
       "    </tr>\n",
       "    <tr>\n",
       "      <th>45</th>\n",
       "      <td>2006</td>\n",
       "      <td>Amazing Grace (My Chains Are Gone)</td>\n",
       "      <td>14</td>\n",
       "    </tr>\n",
       "    <tr>\n",
       "      <th>44</th>\n",
       "      <td>2005</td>\n",
       "      <td>Do You Remember</td>\n",
       "      <td>11</td>\n",
       "    </tr>\n",
       "    <tr>\n",
       "      <th>43</th>\n",
       "      <td>2004</td>\n",
       "      <td>Cater 2 U</td>\n",
       "      <td>12</td>\n",
       "    </tr>\n",
       "    <tr>\n",
       "      <th>42</th>\n",
       "      <td>2003</td>\n",
       "      <td>If I Ain't Got You</td>\n",
       "      <td>19</td>\n",
       "    </tr>\n",
       "    <tr>\n",
       "      <th>41</th>\n",
       "      <td>2002</td>\n",
       "      <td>Swing, Swing</td>\n",
       "      <td>7</td>\n",
       "    </tr>\n",
       "    <tr>\n",
       "      <th>40</th>\n",
       "      <td>2001</td>\n",
       "      <td>Bibbidi-Bobbidi-Boo - From \"Cinderella\"</td>\n",
       "      <td>2</td>\n",
       "    </tr>\n",
       "  </tbody>\n",
       "</table>\n",
       "</div>"
      ],
      "text/plain": [
       "    year                                    title  count\n",
       "59  2020     Laugh Now Cry Later (feat. Lil Durk)     50\n",
       "58  2019                        I Want You Around     38\n",
       "57  2018                             Plastic Love     38\n",
       "56  2017        Slide (feat. Frank Ocean & Migos)     26\n",
       "55  2016                            Build My Life     37\n",
       "54  2015                                 C U Girl     16\n",
       "53  2014                                  Aleluia     20\n",
       "52  2013                  Called Me Higher - Live     17\n",
       "51  2012                       Cornerstone - Live     21\n",
       "50  2011                                 Novacane      4\n",
       "49  2010                          Pretty Boy Swag      9\n",
       "48  2009                 Day 'n' Nite (Nightmare)      3\n",
       "47  2008                             American Boy      7\n",
       "46  2007                        Massage Situation     11\n",
       "45  2006       Amazing Grace (My Chains Are Gone)     14\n",
       "44  2005                          Do You Remember     11\n",
       "43  2004                                Cater 2 U     12\n",
       "42  2003                       If I Ain't Got You     19\n",
       "41  2002                             Swing, Swing      7\n",
       "40  2001  Bibbidi-Bobbidi-Boo - From \"Cinderella\"      2"
      ]
     },
     "execution_count": 152,
     "metadata": {},
     "output_type": "execute_result"
    }
   ],
   "source": [
    "yearly_count.groupby(\"year\").apply(lambda x: x.nlargest(1, \"count\")).reset_index(drop=True).sort_values('year',ascending=0).head(n=20)"
   ]
  },
  {
   "cell_type": "markdown",
   "metadata": {},
   "source": [
    "### Distribution of Tracks by popularity\n",
    "For the most part I am listening to popular music. Somewhat basic I guess"
   ]
  },
  {
   "cell_type": "code",
   "execution_count": 12,
   "metadata": {},
   "outputs": [
    {
     "data": {
      "image/png": "[encoded data removed]"
     },
     "metadata": {},
     "output_type": "display_data"
    }
   ],
   "source": [
    "create_histogram(listening_history_df, \"popularity\")"
   ]
  },
  {
   "cell_type": "code",
   "execution_count": 13,
   "metadata": {},
   "outputs": [
    {
     "data": {
      "image/png": "[encoded data removed]"
     },
     "metadata": {},
     "output_type": "display_data"
    }
   ],
   "source": [
    "create_distplot(listening_history_df, \"popularity\")"
   ]
  },
  {
   "cell_type": "code",
   "execution_count": null,
   "metadata": {},
   "outputs": [],
   "source": []
  }
 ],
 "metadata": {
  "kernelspec": {
   "display_name": "Python 3",
   "language": "python",
   "name": "python3"
  },
  "language_info": {
   "codemirror_mode": {
    "name": "ipython",
    "version": 3
   },
   "file_extension": ".py",
   "mimetype": "text/x-python",
   "name": "python",
   "nbconvert_exporter": "python",
   "pygments_lexer": "ipython3",
   "version": "3.7.6"
  }
 },
 "nbformat": 4,
 "nbformat_minor": 4
}
